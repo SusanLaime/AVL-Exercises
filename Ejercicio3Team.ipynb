{
 "cells": [
  {
   "cell_type": "code",
   "execution_count": 12,
   "id": "a3099aa9",
   "metadata": {},
   "outputs": [],
   "source": [
    "class AVLNode:\n",
    "    def __init__(self, key = None, value = None):\n",
    "        self.key = key        # id del objeto\n",
    "        self.value = value    # índice en la lista\n",
    "        self.height = 1\n",
    "        self.left = None\n",
    "        self.right = None\n",
    "\n",
    "class AVLTree:\n",
    "    def insert(self, root, key, value):\n",
    "        if not root:\n",
    "            return AVLNode(key, value)\n",
    "        \n",
    "        if key < root.key:\n",
    "            root.left = self.insert(root.left, key, value)\n",
    "        elif key > root.key:\n",
    "            root.right = self.insert(root.right, key, value)\n",
    "        else:\n",
    "            return root  # claves duplicadas no se insertan\n",
    "\n",
    "        root.height = 1 + max(self.get_height(root.left), self.get_height(root.right))\n",
    "        balance = self.get_balance(root)\n",
    "\n",
    "        # Rotaciones para mantener balanceado\n",
    "        if balance > 1 and key < root.left.key:\n",
    "            return self.rotate_right(root)\n",
    "        if balance < -1 and key > root.right.key:\n",
    "            return self.rotate_left(root)\n",
    "        if balance > 1 and key > root.left.key:\n",
    "            root.left = self.rotate_left(root.left)\n",
    "            return self.rotate_right(root)\n",
    "        if balance < -1 and key < root.right.key:\n",
    "            root.right = self.rotate_right(root.right)\n",
    "            return self.rotate_left(root)\n",
    "\n",
    "        return root\n",
    "\n",
    "    def get_height(self, node):\n",
    "        return node.height if node else 0\n",
    "\n",
    "    def get_balance(self, node):\n",
    "        return self.get_height(node.left) - self.get_height(node.right) if node else 0\n",
    "\n",
    "    def rotate_left(self, z):\n",
    "        y = z.right\n",
    "        T2 = y.left\n",
    "        y.left = z\n",
    "        z.right = T2\n",
    "        z.height = 1 + max(self.get_height(z.left), self.get_height(z.right))\n",
    "        y.height = 1 + max(self.get_height(y.left), self.get_height(y.right))\n",
    "        return y\n",
    "\n",
    "    def rotate_right(self, z):\n",
    "        y = z.left\n",
    "        T3 = y.right\n",
    "        y.right = z\n",
    "        z.left = T3\n",
    "        z.height = 1 + max(self.get_height(z.left), self.get_height(z.right))\n",
    "        y.height = 1 + max(self.get_height(y.left), self.get_height(y.right))\n",
    "        return y\n",
    "\n",
    "    def in_order(self, root):\n",
    "        if root:\n",
    "            self.in_order(root.left)\n",
    "            print(f\"ID: {root.key}, Índice: {root.value}\")\n",
    "            self.in_order(root.right)"
   ]
  },
  {
   "cell_type": "code",
   "execution_count": 13,
   "id": "bfa38de0",
   "metadata": {},
   "outputs": [],
   "source": [
    "def build_index(data_storage, index):\n",
    "    root = None\n",
    "    for i, record in enumerate(data_storage):\n",
    "        root = index.insert(root, record['id'], i)\n",
    "    return root"
   ]
  },
  {
   "cell_type": "code",
   "execution_count": 14,
   "id": "3ee2f8c5",
   "metadata": {},
   "outputs": [],
   "source": [
    "def find_record_by_id(key, root, data_storage):\n",
    "    node = root\n",
    "    while node:\n",
    "        if key == node.key:\n",
    "            return data_storage[node.value]\n",
    "        elif key < node.key:\n",
    "            node = node.left\n",
    "        else:\n",
    "            node = node.right\n",
    "    return None\n"
   ]
  },
  {
   "cell_type": "code",
   "execution_count": 15,
   "id": "38c286bb",
   "metadata": {},
   "outputs": [],
   "source": [
    "def add_record(new_record, index, data_storage, root):\n",
    "    data_storage.append(new_record)\n",
    "    root = index.insert(root, new_record['id'], len(data_storage) - 1)\n",
    "    return root\n"
   ]
  },
  {
   "cell_type": "code",
   "execution_count": 17,
   "id": "eb1e91d1",
   "metadata": {},
   "outputs": [
    {
     "name": "stdout",
     "output_type": "stream",
     "text": [
      "Registro encontrado: {'id': 237, 'data': 'Info C'}\n",
      "Registro no encontrado: None\n",
      "Almacenamiento después de añadir: [{'id': 101, 'data': 'Info A'}, {'id': 55, 'data': 'Info B'}, {'id': 237, 'data': 'Info C'}, {'id': 12, 'data': 'Info D'}, {'id': 150, 'data': 'Info E'}]\n",
      "Registro añadido encontrado: {'id': 150, 'data': 'Info E'}\n"
     ]
    }
   ],
   "source": [
    "data_storage = [\n",
    "    {'id': 101, 'data': 'Info A'},\n",
    "    {'id': 55, 'data': 'Info B'},\n",
    "    {'id': 237, 'data': 'Info C'},\n",
    "    {'id': 12, 'data': 'Info D'}\n",
    "]\n",
    "\n",
    "index = AVLTree()\n",
    "root = build_index(data_storage, index)\n",
    "\n",
    "# Búsqueda rápida usando el índice\n",
    "record = find_record_by_id(237, root, data_storage)\n",
    "print(\"Registro encontrado:\", record)  # Debería imprimir {'id': 237, 'data': 'Info C'}\n",
    "\n",
    "record_not_found = find_record_by_id(999, root, data_storage)\n",
    "print(\"Registro no encontrado:\", record_not_found)  # Debería imprimir None\n",
    "\n",
    "# Añadir un nuevo registro\n",
    "new_rec = {'id': 150, 'data': 'Info E'}\n",
    "root = add_record(new_rec, index, data_storage, root)\n",
    "\n",
    "print(\"Almacenamiento después de añadir:\", data_storage)\n",
    "\n",
    "record_added = find_record_by_id(150, root, data_storage)\n",
    "print(\"Registro añadido encontrado:\", record_added)  # Debería imprimir {'id': 150, 'data': 'Info E'}"
   ]
  }
 ],
 "metadata": {
  "kernelspec": {
   "display_name": "Python 3",
   "language": "python",
   "name": "python3"
  },
  "language_info": {
   "codemirror_mode": {
    "name": "ipython",
    "version": 3
   },
   "file_extension": ".py",
   "mimetype": "text/x-python",
   "name": "python",
   "nbconvert_exporter": "python",
   "pygments_lexer": "ipython3",
   "version": "3.13.1"
  }
 },
 "nbformat": 4,
 "nbformat_minor": 5
}
